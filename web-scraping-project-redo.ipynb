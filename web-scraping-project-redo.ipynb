{
 "cells": [
  {
   "cell_type": "markdown",
   "metadata": {},
   "source": [
    "# Scraping The Top Games from Nintendolife.com using BeautifulSoup\n",
    "\n",
    "#### By Uday Sidhu\n",
    "\n",
    "### Objective: To Retrieve the names, ratings, and page URLs for the top games listed on nintendolife.com.\n",
    "\n",
    "Nintendolife.com is a website pertaining to everything Nintendo. It hosts the latest news, announcements, guides, and reviews of the latest games released or coming to a Nintendo platform. It also hosts a list of the top rated games of all time. This is the list that we are going to be scraping in this project.\n",
    "\n",
    "\n",
    "\n",
    "\n",
    "![logo](https://i.imgur.com/P9nyUA9.png)\n",
    "\n",
    "\n",
    "\n",
    "\n",
    "\n",
    "### What is web scraping?\n",
    "Web scraping is the process of collecting structured web data in an automated fashion. It’s also called web data extraction. Some of the main use cases of web scraping include price monitoring, price intelligence, news monitoring, lead generation, and market research among many others. In this project we use python libraries `requests` and `BeautifulSoup4` to retrive and parse HTML pages and obtain the desired information.\n",
    "\n",
    "https://www.zyte.com/learn/what-is-web-scraping/\n",
    "\n",
    "\n",
    "![webscraping_image](https://i.imgur.com/AXQ4S7S.png)\n",
    "\n",
    "\n",
    "## Outline\n",
    "1. Retrieve web-page using `requests`.\n",
    "2. Import `BeautifulSoup4` to parse the webpage thus obtained.\n",
    "3. Obtain the required information such as game name, game page URL, and rating.\n",
    "4. Store obtained information in the form of a dictionary.\n",
    "5. Write extracted information to a .csv file.\n",
    "6. Consolidate the code into functions and get entries from a specific page number.\n",
    "\n",
    "\n",
    "\n"
   ]
  },
  {
   "cell_type": "code",
   "execution_count": 1,
   "metadata": {},
   "outputs": [],
   "source": [
    "!pip install jovian --upgrade --quiet"
   ]
  },
  {
   "cell_type": "code",
   "execution_count": 2,
   "metadata": {},
   "outputs": [],
   "source": [
    "import jovian"
   ]
  },
  {
   "cell_type": "code",
   "execution_count": 3,
   "metadata": {},
   "outputs": [
    {
     "data": {
      "application/javascript": [
       "window.require && require([\"base/js/namespace\"],function(Jupyter){Jupyter.notebook.save_checkpoint()})"
      ],
      "text/plain": [
       "<IPython.core.display.Javascript object>"
      ]
     },
     "metadata": {},
     "output_type": "display_data"
    },
    {
     "name": "stdout",
     "output_type": "stream",
     "text": [
      "[jovian] Creating a new project \"udaysidhu1/Web-Scraping-nintendolife.com\"\u001b[0m\n",
      "[jovian] Committed successfully! https://jovian.ai/udaysidhu1/web-scraping-nintendolife-71269\u001b[0m\n"
     ]
    },
    {
     "data": {
      "text/plain": [
       "'https://jovian.ai/udaysidhu1/web-scraping-nintendolife-71269'"
      ]
     },
     "execution_count": 3,
     "metadata": {},
     "output_type": "execute_result"
    }
   ],
   "source": [
    "# Execute this to save new versions of the notebook\n",
    "jovian.commit(project=\"Web-Scraping-nintendolife.com\")"
   ]
  },
  {
   "cell_type": "code",
   "execution_count": 4,
   "metadata": {},
   "outputs": [],
   "source": [
    "import requests"
   ]
  },
  {
   "cell_type": "markdown",
   "metadata": {},
   "source": [
    "##   Retrieve web-page using `requests`\n",
    "\n"
   ]
  },
  {
   "cell_type": "code",
   "execution_count": 5,
   "metadata": {},
   "outputs": [],
   "source": [
    "top_url='https://www.nintendolife.com/games/browse?sort=rating'"
   ]
  },
  {
   "cell_type": "code",
   "execution_count": 6,
   "metadata": {},
   "outputs": [],
   "source": [
    "response = requests.get(top_url)"
   ]
  },
  {
   "cell_type": "code",
   "execution_count": 7,
   "metadata": {},
   "outputs": [
    {
     "data": {
      "text/plain": [
       "200"
      ]
     },
     "execution_count": 7,
     "metadata": {},
     "output_type": "execute_result"
    }
   ],
   "source": [
    "\n",
    "response.status_code"
   ]
  },
  {
   "cell_type": "code",
   "execution_count": 8,
   "metadata": {},
   "outputs": [],
   "source": [
    "page_contents=response.text"
   ]
  },
  {
   "cell_type": "code",
   "execution_count": 9,
   "metadata": {},
   "outputs": [],
   "source": [
    "#saving web page to view later\n",
    "with open('webpage.html','w') as f:\n",
    "    f.write(page_contents)\n",
    "    "
   ]
  },
  {
   "cell_type": "markdown",
   "metadata": {},
   "source": [
    "## Import `BeautifulSoup4` to parse the webpage thus obtained."
   ]
  },
  {
   "cell_type": "code",
   "execution_count": 10,
   "metadata": {},
   "outputs": [],
   "source": [
    "!pip install beautifulsoup4 --upgrade --quiet\n",
    "\n"
   ]
  },
  {
   "cell_type": "code",
   "execution_count": 11,
   "metadata": {},
   "outputs": [],
   "source": [
    "from bs4 import BeautifulSoup"
   ]
  },
  {
   "cell_type": "code",
   "execution_count": 12,
   "metadata": {
    "scrolled": false
   },
   "outputs": [],
   "source": [
    "doc=BeautifulSoup(page_contents,'html.parser')"
   ]
  },
  {
   "cell_type": "markdown",
   "metadata": {},
   "source": [
    "## Store obtained information in the form of dictionaries."
   ]
  },
  {
   "cell_type": "markdown",
   "metadata": {},
   "source": [
    "In the cell below, the span tags with the the class `title accent-hover` are searched for. These span tags contain the titles of the games."
   ]
  },
  {
   "cell_type": "code",
   "execution_count": 13,
   "metadata": {},
   "outputs": [],
   "source": [
    "span_tags=doc.find_all('span',class_='title accent-hover')\n",
    "span_tags=span_tags[:60]"
   ]
  },
  {
   "cell_type": "code",
   "execution_count": 14,
   "metadata": {},
   "outputs": [
    {
     "data": {
      "text/plain": [
       "\"The Legend of Zelda: Breath of the Wild - The Champions' Ballad + Expansion Pass\""
      ]
     },
     "execution_count": 14,
     "metadata": {},
     "output_type": "execute_result"
    }
   ],
   "source": [
    "span_tags[5].text"
   ]
  },
  {
   "cell_type": "code",
   "execution_count": 15,
   "metadata": {},
   "outputs": [
    {
     "data": {
      "text/plain": [
       "60"
      ]
     },
     "execution_count": 15,
     "metadata": {},
     "output_type": "execute_result"
    }
   ],
   "source": [
    "len(span_tags)"
   ]
  },
  {
   "cell_type": "markdown",
   "metadata": {},
   "source": [
    "The text form the span tags is appended to a list giving us a list of game titles."
   ]
  },
  {
   "cell_type": "code",
   "execution_count": 16,
   "metadata": {},
   "outputs": [
    {
     "name": "stdout",
     "output_type": "stream",
     "text": [
      "['The Legend of Zelda: Breath of the Wild', 'The Legend of Zelda: Ocarina of Time', 'The Legend of Zelda: Breath of the Wild', \"The Legend of Zelda: Link's Awakening\", 'Chrono Trigger', \"The Legend of Zelda: Breath of the Wild - The Champions' Ballad + Expansion Pass\", 'Chrono Trigger', 'The Legend of Zelda: A Link to the Past', 'Dodgeball Academia', 'Super Mario World', 'Metroid Prime Trilogy', 'Resident Evil 4', 'Super Metroid', 'The Legend of Zelda: The Wind Waker', 'Metroid Prime', 'Paper Mario: The Thousand-Year Door', 'Final Fantasy III', 'Pokémon HeartGold & SoulSilver', 'Xenoblade Chronicles: Definitive Edition', 'Tetris', 'Super Mario Bros. 3', \"The Legend of Zelda: Collector's Edition\", 'Super Smash Bros. Ultimate', 'Super Mario Odyssey', 'Xenoblade Chronicles', 'Ori and the Will of the Wisps', 'The Legend of Zelda: Ocarina of Time 3D', 'The Legend of Zelda: The Wind Waker HD', 'The Legend of Zelda: Ocarina of Time / Master Quest', 'Super Mario Galaxy', 'Super Mario Galaxy 2', \"The Legend of Zelda: Majora's Mask\", 'Pokémon Crystal', 'Phoenix Wright: Ace Attorney Trials and Tribulations', 'Streets of Rage 2', 'GoldenEye 007', 'Super Smash Bros. Melee', \"Super Mario 3D World + Bowser's Fury\", 'Dragon Quest Monsters: Joker 2 Professional', 'Pokémon Gold And Silver', 'The World Ends With You', 'The Legend of Zelda: A Link Between Worlds', 'Hades', 'Castlevania: Aria of Sorrow', 'Monster Hunter Rise', 'The Legend of Zelda: Twilight Princess', 'Mother 3', 'Resident Evil 4: Wii Edition', 'Dragon Quest XI S: Echoes of an Elusive Age - Definitive Edition', 'Metroid: Zero Mission', 'Fire Emblem: Awakening', 'The Guardian Legend', 'Radiant Historia', \"The Legend of Zelda: Link's Awakening DX\", 'Phoenix Wright: Ace Attorney', 'Mario Kart 8 Deluxe', 'Castlevania: Dawn of Sorrow', 'Pokémon Yellow Version: Special Pikachu Edition', \"Super Mario World 2: Yoshi's Island\", 'Fire Emblem: Three Houses']\n"
     ]
    }
   ],
   "source": [
    "title_list=[]\n",
    "for tag in span_tags:\n",
    "    title_list.append(tag.text)\n",
    "print(title_list)"
   ]
  },
  {
   "cell_type": "code",
   "execution_count": 17,
   "metadata": {},
   "outputs": [],
   "source": [
    "a_tags=doc.find_all('a',class_='title accent-hover')\n",
    "a_tags=a_tags[:60]"
   ]
  },
  {
   "cell_type": "code",
   "execution_count": 18,
   "metadata": {},
   "outputs": [
    {
     "name": "stdout",
     "output_type": "stream",
     "text": [
      "games/nintendo-switch/legend_of_zelda_breath_of_the_wild\n"
     ]
    }
   ],
   "source": [
    "print(a_tags[0]['href'])"
   ]
  },
  {
   "cell_type": "code",
   "execution_count": 19,
   "metadata": {},
   "outputs": [],
   "source": [
    "url_list=[]\n",
    "for tag in a_tags:\n",
    "    url_cat='https://www.nintendolife.com/'+tag['href']\n",
    "    url_list.append(url_cat)\n"
   ]
  },
  {
   "cell_type": "code",
   "execution_count": 20,
   "metadata": {},
   "outputs": [
    {
     "name": "stdout",
     "output_type": "stream",
     "text": [
      " 9.4\n"
     ]
    }
   ],
   "source": [
    "rating_span_tags=doc.find_all('p',{'class':'user-rating'})\n",
    "print(rating_span_tags[7].text)"
   ]
  },
  {
   "cell_type": "code",
   "execution_count": 21,
   "metadata": {},
   "outputs": [],
   "source": [
    "rating_span_tags=doc.find_all('p',{'class':'user-rating'})\n",
    "rating_list=[]\n",
    "for tag in rating_span_tags:\n",
    "    rating_list.append(tag.text)\n"
   ]
  },
  {
   "cell_type": "code",
   "execution_count": 22,
   "metadata": {},
   "outputs": [
    {
     "name": "stdout",
     "output_type": "stream",
     "text": [
      "[' 9.6', ' 9.6', ' 9.5', ' 9.5', ' 9.5', ' 9.5', ' 9.4', ' 9.4', ' 9.4', ' 9.4', ' 9.4', ' 9.4', ' 9.4', ' 9.4', ' 9.4', ' 9.3', ' 9.3', ' 9.3', ' 9.3', ' 9.3', ' 9.2', ' 9.2', ' 9.2', ' 9.2', ' 9.2', ' 9.2', ' 9.2', ' 9.2', ' 9.2', ' 9.2', ' 9.2', ' 9.2', ' 9.2', ' 9.2', ' 9.2', ' 9.1', ' 9.1', ' 9.1', ' 9.1', ' 9.1', ' 9.1', ' 9.1', ' 9.1', ' 9.1', ' 9.1', ' 9.1', ' 9.1', ' 9.1', ' 9.1', ' 9.1', ' 9.1', ' 9.1', ' 9.1', ' 9', ' 9', ' 9', ' 9', ' 9', ' 9', ' 9']\n"
     ]
    }
   ],
   "source": [
    "print(rating_list)"
   ]
  },
  {
   "cell_type": "markdown",
   "metadata": {},
   "source": [
    "## Write extracted information to a CSV file."
   ]
  },
  {
   "cell_type": "code",
   "execution_count": 23,
   "metadata": {},
   "outputs": [],
   "source": [
    "game_dict={'title':title_list,\n",
    "            'rating':rating_list,\n",
    "            'url':url_list\n",
    "}\n"
   ]
  },
  {
   "cell_type": "code",
   "execution_count": 24,
   "metadata": {},
   "outputs": [],
   "source": [
    "import pandas as pd"
   ]
  },
  {
   "cell_type": "code",
   "execution_count": 25,
   "metadata": {},
   "outputs": [],
   "source": [
    "games_df=pd.DataFrame(game_dict)"
   ]
  },
  {
   "cell_type": "code",
   "execution_count": 26,
   "metadata": {},
   "outputs": [
    {
     "data": {
      "text/html": [
       "<div>\n",
       "<style scoped>\n",
       "    .dataframe tbody tr th:only-of-type {\n",
       "        vertical-align: middle;\n",
       "    }\n",
       "\n",
       "    .dataframe tbody tr th {\n",
       "        vertical-align: top;\n",
       "    }\n",
       "\n",
       "    .dataframe thead th {\n",
       "        text-align: right;\n",
       "    }\n",
       "</style>\n",
       "<table border=\"1\" class=\"dataframe\">\n",
       "  <thead>\n",
       "    <tr style=\"text-align: right;\">\n",
       "      <th></th>\n",
       "      <th>title</th>\n",
       "      <th>rating</th>\n",
       "      <th>url</th>\n",
       "    </tr>\n",
       "  </thead>\n",
       "  <tbody>\n",
       "    <tr>\n",
       "      <th>0</th>\n",
       "      <td>The Legend of Zelda: Breath of the Wild</td>\n",
       "      <td>9.6</td>\n",
       "      <td>https://www.nintendolife.com/games/nintendo-sw...</td>\n",
       "    </tr>\n",
       "    <tr>\n",
       "      <th>1</th>\n",
       "      <td>The Legend of Zelda: Ocarina of Time</td>\n",
       "      <td>9.6</td>\n",
       "      <td>https://www.nintendolife.com/games/n64/legend_...</td>\n",
       "    </tr>\n",
       "    <tr>\n",
       "      <th>2</th>\n",
       "      <td>The Legend of Zelda: Breath of the Wild</td>\n",
       "      <td>9.5</td>\n",
       "      <td>https://www.nintendolife.com/games/wiiu/legend...</td>\n",
       "    </tr>\n",
       "    <tr>\n",
       "      <th>3</th>\n",
       "      <td>The Legend of Zelda: Link's Awakening</td>\n",
       "      <td>9.5</td>\n",
       "      <td>https://www.nintendolife.com/games/gameboy/leg...</td>\n",
       "    </tr>\n",
       "    <tr>\n",
       "      <th>4</th>\n",
       "      <td>Chrono Trigger</td>\n",
       "      <td>9.5</td>\n",
       "      <td>https://www.nintendolife.com/games/ds/chrono_t...</td>\n",
       "    </tr>\n",
       "    <tr>\n",
       "      <th>5</th>\n",
       "      <td>The Legend of Zelda: Breath of the Wild - The ...</td>\n",
       "      <td>9.5</td>\n",
       "      <td>https://www.nintendolife.com/games/switch-esho...</td>\n",
       "    </tr>\n",
       "    <tr>\n",
       "      <th>6</th>\n",
       "      <td>Chrono Trigger</td>\n",
       "      <td>9.4</td>\n",
       "      <td>https://www.nintendolife.com/games/snes/chrono...</td>\n",
       "    </tr>\n",
       "    <tr>\n",
       "      <th>7</th>\n",
       "      <td>The Legend of Zelda: A Link to the Past</td>\n",
       "      <td>9.4</td>\n",
       "      <td>https://www.nintendolife.com/games/snes/legend...</td>\n",
       "    </tr>\n",
       "    <tr>\n",
       "      <th>8</th>\n",
       "      <td>Dodgeball Academia</td>\n",
       "      <td>9.4</td>\n",
       "      <td>https://www.nintendolife.com/games/switch-esho...</td>\n",
       "    </tr>\n",
       "    <tr>\n",
       "      <th>9</th>\n",
       "      <td>Super Mario World</td>\n",
       "      <td>9.4</td>\n",
       "      <td>https://www.nintendolife.com/games/snes/super_...</td>\n",
       "    </tr>\n",
       "    <tr>\n",
       "      <th>10</th>\n",
       "      <td>Metroid Prime Trilogy</td>\n",
       "      <td>9.4</td>\n",
       "      <td>https://www.nintendolife.com/games/wii/metroid...</td>\n",
       "    </tr>\n",
       "    <tr>\n",
       "      <th>11</th>\n",
       "      <td>Resident Evil 4</td>\n",
       "      <td>9.4</td>\n",
       "      <td>https://www.nintendolife.com/games/gamecube/re...</td>\n",
       "    </tr>\n",
       "    <tr>\n",
       "      <th>12</th>\n",
       "      <td>Super Metroid</td>\n",
       "      <td>9.4</td>\n",
       "      <td>https://www.nintendolife.com/games/snes/super_...</td>\n",
       "    </tr>\n",
       "    <tr>\n",
       "      <th>13</th>\n",
       "      <td>The Legend of Zelda: The Wind Waker</td>\n",
       "      <td>9.4</td>\n",
       "      <td>https://www.nintendolife.com/games/gamecube/le...</td>\n",
       "    </tr>\n",
       "    <tr>\n",
       "      <th>14</th>\n",
       "      <td>Metroid Prime</td>\n",
       "      <td>9.4</td>\n",
       "      <td>https://www.nintendolife.com/games/gamecube/me...</td>\n",
       "    </tr>\n",
       "    <tr>\n",
       "      <th>15</th>\n",
       "      <td>Paper Mario: The Thousand-Year Door</td>\n",
       "      <td>9.3</td>\n",
       "      <td>https://www.nintendolife.com/games/gamecube/pa...</td>\n",
       "    </tr>\n",
       "    <tr>\n",
       "      <th>16</th>\n",
       "      <td>Final Fantasy III</td>\n",
       "      <td>9.3</td>\n",
       "      <td>https://www.nintendolife.com/games/snes/final_...</td>\n",
       "    </tr>\n",
       "    <tr>\n",
       "      <th>17</th>\n",
       "      <td>Pokémon HeartGold &amp; SoulSilver</td>\n",
       "      <td>9.3</td>\n",
       "      <td>https://www.nintendolife.com/games/ds/pokemon_...</td>\n",
       "    </tr>\n",
       "    <tr>\n",
       "      <th>18</th>\n",
       "      <td>Xenoblade Chronicles: Definitive Edition</td>\n",
       "      <td>9.3</td>\n",
       "      <td>https://www.nintendolife.com/games/nintendo-sw...</td>\n",
       "    </tr>\n",
       "    <tr>\n",
       "      <th>19</th>\n",
       "      <td>Tetris</td>\n",
       "      <td>9.3</td>\n",
       "      <td>https://www.nintendolife.com/games/gameboy/tetris</td>\n",
       "    </tr>\n",
       "    <tr>\n",
       "      <th>20</th>\n",
       "      <td>Super Mario Bros. 3</td>\n",
       "      <td>9.2</td>\n",
       "      <td>https://www.nintendolife.com/games/nes/super_m...</td>\n",
       "    </tr>\n",
       "    <tr>\n",
       "      <th>21</th>\n",
       "      <td>The Legend of Zelda: Collector's Edition</td>\n",
       "      <td>9.2</td>\n",
       "      <td>https://www.nintendolife.com/games/gamecube/le...</td>\n",
       "    </tr>\n",
       "    <tr>\n",
       "      <th>22</th>\n",
       "      <td>Super Smash Bros. Ultimate</td>\n",
       "      <td>9.2</td>\n",
       "      <td>https://www.nintendolife.com/games/nintendo-sw...</td>\n",
       "    </tr>\n",
       "    <tr>\n",
       "      <th>23</th>\n",
       "      <td>Super Mario Odyssey</td>\n",
       "      <td>9.2</td>\n",
       "      <td>https://www.nintendolife.com/games/nintendo-sw...</td>\n",
       "    </tr>\n",
       "    <tr>\n",
       "      <th>24</th>\n",
       "      <td>Xenoblade Chronicles</td>\n",
       "      <td>9.2</td>\n",
       "      <td>https://www.nintendolife.com/games/wii/xenobla...</td>\n",
       "    </tr>\n",
       "    <tr>\n",
       "      <th>25</th>\n",
       "      <td>Ori and the Will of the Wisps</td>\n",
       "      <td>9.2</td>\n",
       "      <td>https://www.nintendolife.com/games/switch-esho...</td>\n",
       "    </tr>\n",
       "    <tr>\n",
       "      <th>26</th>\n",
       "      <td>The Legend of Zelda: Ocarina of Time 3D</td>\n",
       "      <td>9.2</td>\n",
       "      <td>https://www.nintendolife.com/games/3ds/legend_...</td>\n",
       "    </tr>\n",
       "    <tr>\n",
       "      <th>27</th>\n",
       "      <td>The Legend of Zelda: The Wind Waker HD</td>\n",
       "      <td>9.2</td>\n",
       "      <td>https://www.nintendolife.com/games/wiiu/legend...</td>\n",
       "    </tr>\n",
       "    <tr>\n",
       "      <th>28</th>\n",
       "      <td>The Legend of Zelda: Ocarina of Time / Master ...</td>\n",
       "      <td>9.2</td>\n",
       "      <td>https://www.nintendolife.com/games/gamecube/le...</td>\n",
       "    </tr>\n",
       "    <tr>\n",
       "      <th>29</th>\n",
       "      <td>Super Mario Galaxy</td>\n",
       "      <td>9.2</td>\n",
       "      <td>https://www.nintendolife.com/games/wii/super_m...</td>\n",
       "    </tr>\n",
       "    <tr>\n",
       "      <th>30</th>\n",
       "      <td>Super Mario Galaxy 2</td>\n",
       "      <td>9.2</td>\n",
       "      <td>https://www.nintendolife.com/games/wii/super_m...</td>\n",
       "    </tr>\n",
       "    <tr>\n",
       "      <th>31</th>\n",
       "      <td>The Legend of Zelda: Majora's Mask</td>\n",
       "      <td>9.2</td>\n",
       "      <td>https://www.nintendolife.com/games/n64/legend_...</td>\n",
       "    </tr>\n",
       "    <tr>\n",
       "      <th>32</th>\n",
       "      <td>Pokémon Crystal</td>\n",
       "      <td>9.2</td>\n",
       "      <td>https://www.nintendolife.com/games/gbc/pokemon...</td>\n",
       "    </tr>\n",
       "    <tr>\n",
       "      <th>33</th>\n",
       "      <td>Phoenix Wright: Ace Attorney Trials and Tribul...</td>\n",
       "      <td>9.2</td>\n",
       "      <td>https://www.nintendolife.com/games/ds/phoenix_...</td>\n",
       "    </tr>\n",
       "    <tr>\n",
       "      <th>34</th>\n",
       "      <td>Streets of Rage 2</td>\n",
       "      <td>9.2</td>\n",
       "      <td>https://www.nintendolife.com/games/megadrive/s...</td>\n",
       "    </tr>\n",
       "    <tr>\n",
       "      <th>35</th>\n",
       "      <td>GoldenEye 007</td>\n",
       "      <td>9.1</td>\n",
       "      <td>https://www.nintendolife.com/games/n64/goldene...</td>\n",
       "    </tr>\n",
       "    <tr>\n",
       "      <th>36</th>\n",
       "      <td>Super Smash Bros. Melee</td>\n",
       "      <td>9.1</td>\n",
       "      <td>https://www.nintendolife.com/games/gamecube/su...</td>\n",
       "    </tr>\n",
       "    <tr>\n",
       "      <th>37</th>\n",
       "      <td>Super Mario 3D World + Bowser's Fury</td>\n",
       "      <td>9.1</td>\n",
       "      <td>https://www.nintendolife.com/games/nintendo-sw...</td>\n",
       "    </tr>\n",
       "    <tr>\n",
       "      <th>38</th>\n",
       "      <td>Dragon Quest Monsters: Joker 2 Professional</td>\n",
       "      <td>9.1</td>\n",
       "      <td>https://www.nintendolife.com/games/ds/dragon_q...</td>\n",
       "    </tr>\n",
       "    <tr>\n",
       "      <th>39</th>\n",
       "      <td>Pokémon Gold And Silver</td>\n",
       "      <td>9.1</td>\n",
       "      <td>https://www.nintendolife.com/games/gbc/pokemon...</td>\n",
       "    </tr>\n",
       "    <tr>\n",
       "      <th>40</th>\n",
       "      <td>The World Ends With You</td>\n",
       "      <td>9.1</td>\n",
       "      <td>https://www.nintendolife.com/games/ds/world_en...</td>\n",
       "    </tr>\n",
       "    <tr>\n",
       "      <th>41</th>\n",
       "      <td>The Legend of Zelda: A Link Between Worlds</td>\n",
       "      <td>9.1</td>\n",
       "      <td>https://www.nintendolife.com/games/3ds/legend_...</td>\n",
       "    </tr>\n",
       "    <tr>\n",
       "      <th>42</th>\n",
       "      <td>Hades</td>\n",
       "      <td>9.1</td>\n",
       "      <td>https://www.nintendolife.com/games/switch-esho...</td>\n",
       "    </tr>\n",
       "    <tr>\n",
       "      <th>43</th>\n",
       "      <td>Castlevania: Aria of Sorrow</td>\n",
       "      <td>9.1</td>\n",
       "      <td>https://www.nintendolife.com/games/gba/castlev...</td>\n",
       "    </tr>\n",
       "    <tr>\n",
       "      <th>44</th>\n",
       "      <td>Monster Hunter Rise</td>\n",
       "      <td>9.1</td>\n",
       "      <td>https://www.nintendolife.com/games/nintendo-sw...</td>\n",
       "    </tr>\n",
       "    <tr>\n",
       "      <th>45</th>\n",
       "      <td>The Legend of Zelda: Twilight Princess</td>\n",
       "      <td>9.1</td>\n",
       "      <td>https://www.nintendolife.com/games/gamecube/le...</td>\n",
       "    </tr>\n",
       "    <tr>\n",
       "      <th>46</th>\n",
       "      <td>Mother 3</td>\n",
       "      <td>9.1</td>\n",
       "      <td>https://www.nintendolife.com/games/gba/mother_3</td>\n",
       "    </tr>\n",
       "    <tr>\n",
       "      <th>47</th>\n",
       "      <td>Resident Evil 4: Wii Edition</td>\n",
       "      <td>9.1</td>\n",
       "      <td>https://www.nintendolife.com/games/wii/residen...</td>\n",
       "    </tr>\n",
       "    <tr>\n",
       "      <th>48</th>\n",
       "      <td>Dragon Quest XI S: Echoes of an Elusive Age - ...</td>\n",
       "      <td>9.1</td>\n",
       "      <td>https://www.nintendolife.com/games/nintendo-sw...</td>\n",
       "    </tr>\n",
       "    <tr>\n",
       "      <th>49</th>\n",
       "      <td>Metroid: Zero Mission</td>\n",
       "      <td>9.1</td>\n",
       "      <td>https://www.nintendolife.com/games/gba/metroid...</td>\n",
       "    </tr>\n",
       "    <tr>\n",
       "      <th>50</th>\n",
       "      <td>Fire Emblem: Awakening</td>\n",
       "      <td>9.1</td>\n",
       "      <td>https://www.nintendolife.com/games/3ds/fire_em...</td>\n",
       "    </tr>\n",
       "    <tr>\n",
       "      <th>51</th>\n",
       "      <td>The Guardian Legend</td>\n",
       "      <td>9.1</td>\n",
       "      <td>https://www.nintendolife.com/games/nes/guardia...</td>\n",
       "    </tr>\n",
       "    <tr>\n",
       "      <th>52</th>\n",
       "      <td>Radiant Historia</td>\n",
       "      <td>9.1</td>\n",
       "      <td>https://www.nintendolife.com/games/ds/radiant_...</td>\n",
       "    </tr>\n",
       "    <tr>\n",
       "      <th>53</th>\n",
       "      <td>The Legend of Zelda: Link's Awakening DX</td>\n",
       "      <td>9</td>\n",
       "      <td>https://www.nintendolife.com/games/gbc/legend_...</td>\n",
       "    </tr>\n",
       "    <tr>\n",
       "      <th>54</th>\n",
       "      <td>Phoenix Wright: Ace Attorney</td>\n",
       "      <td>9</td>\n",
       "      <td>https://www.nintendolife.com/games/ds/phoenix_...</td>\n",
       "    </tr>\n",
       "    <tr>\n",
       "      <th>55</th>\n",
       "      <td>Mario Kart 8 Deluxe</td>\n",
       "      <td>9</td>\n",
       "      <td>https://www.nintendolife.com/games/nintendo-sw...</td>\n",
       "    </tr>\n",
       "    <tr>\n",
       "      <th>56</th>\n",
       "      <td>Castlevania: Dawn of Sorrow</td>\n",
       "      <td>9</td>\n",
       "      <td>https://www.nintendolife.com/games/ds/castleva...</td>\n",
       "    </tr>\n",
       "    <tr>\n",
       "      <th>57</th>\n",
       "      <td>Pokémon Yellow Version: Special Pikachu Edition</td>\n",
       "      <td>9</td>\n",
       "      <td>https://www.nintendolife.com/games/gameboy/pok...</td>\n",
       "    </tr>\n",
       "    <tr>\n",
       "      <th>58</th>\n",
       "      <td>Super Mario World 2: Yoshi's Island</td>\n",
       "      <td>9</td>\n",
       "      <td>https://www.nintendolife.com/games/snes/super_...</td>\n",
       "    </tr>\n",
       "    <tr>\n",
       "      <th>59</th>\n",
       "      <td>Fire Emblem: Three Houses</td>\n",
       "      <td>9</td>\n",
       "      <td>https://www.nintendolife.com/games/nintendo-sw...</td>\n",
       "    </tr>\n",
       "  </tbody>\n",
       "</table>\n",
       "</div>"
      ],
      "text/plain": [
       "                                                title rating  \\\n",
       "0             The Legend of Zelda: Breath of the Wild    9.6   \n",
       "1                The Legend of Zelda: Ocarina of Time    9.6   \n",
       "2             The Legend of Zelda: Breath of the Wild    9.5   \n",
       "3               The Legend of Zelda: Link's Awakening    9.5   \n",
       "4                                      Chrono Trigger    9.5   \n",
       "5   The Legend of Zelda: Breath of the Wild - The ...    9.5   \n",
       "6                                      Chrono Trigger    9.4   \n",
       "7             The Legend of Zelda: A Link to the Past    9.4   \n",
       "8                                  Dodgeball Academia    9.4   \n",
       "9                                   Super Mario World    9.4   \n",
       "10                              Metroid Prime Trilogy    9.4   \n",
       "11                                    Resident Evil 4    9.4   \n",
       "12                                      Super Metroid    9.4   \n",
       "13                The Legend of Zelda: The Wind Waker    9.4   \n",
       "14                                      Metroid Prime    9.4   \n",
       "15                Paper Mario: The Thousand-Year Door    9.3   \n",
       "16                                  Final Fantasy III    9.3   \n",
       "17                     Pokémon HeartGold & SoulSilver    9.3   \n",
       "18           Xenoblade Chronicles: Definitive Edition    9.3   \n",
       "19                                             Tetris    9.3   \n",
       "20                                Super Mario Bros. 3    9.2   \n",
       "21           The Legend of Zelda: Collector's Edition    9.2   \n",
       "22                         Super Smash Bros. Ultimate    9.2   \n",
       "23                                Super Mario Odyssey    9.2   \n",
       "24                               Xenoblade Chronicles    9.2   \n",
       "25                      Ori and the Will of the Wisps    9.2   \n",
       "26            The Legend of Zelda: Ocarina of Time 3D    9.2   \n",
       "27             The Legend of Zelda: The Wind Waker HD    9.2   \n",
       "28  The Legend of Zelda: Ocarina of Time / Master ...    9.2   \n",
       "29                                 Super Mario Galaxy    9.2   \n",
       "30                               Super Mario Galaxy 2    9.2   \n",
       "31                 The Legend of Zelda: Majora's Mask    9.2   \n",
       "32                                    Pokémon Crystal    9.2   \n",
       "33  Phoenix Wright: Ace Attorney Trials and Tribul...    9.2   \n",
       "34                                  Streets of Rage 2    9.2   \n",
       "35                                      GoldenEye 007    9.1   \n",
       "36                            Super Smash Bros. Melee    9.1   \n",
       "37               Super Mario 3D World + Bowser's Fury    9.1   \n",
       "38        Dragon Quest Monsters: Joker 2 Professional    9.1   \n",
       "39                            Pokémon Gold And Silver    9.1   \n",
       "40                            The World Ends With You    9.1   \n",
       "41         The Legend of Zelda: A Link Between Worlds    9.1   \n",
       "42                                              Hades    9.1   \n",
       "43                        Castlevania: Aria of Sorrow    9.1   \n",
       "44                                Monster Hunter Rise    9.1   \n",
       "45             The Legend of Zelda: Twilight Princess    9.1   \n",
       "46                                           Mother 3    9.1   \n",
       "47                       Resident Evil 4: Wii Edition    9.1   \n",
       "48  Dragon Quest XI S: Echoes of an Elusive Age - ...    9.1   \n",
       "49                              Metroid: Zero Mission    9.1   \n",
       "50                             Fire Emblem: Awakening    9.1   \n",
       "51                                The Guardian Legend    9.1   \n",
       "52                                   Radiant Historia    9.1   \n",
       "53           The Legend of Zelda: Link's Awakening DX      9   \n",
       "54                       Phoenix Wright: Ace Attorney      9   \n",
       "55                                Mario Kart 8 Deluxe      9   \n",
       "56                        Castlevania: Dawn of Sorrow      9   \n",
       "57    Pokémon Yellow Version: Special Pikachu Edition      9   \n",
       "58                Super Mario World 2: Yoshi's Island      9   \n",
       "59                          Fire Emblem: Three Houses      9   \n",
       "\n",
       "                                                  url  \n",
       "0   https://www.nintendolife.com/games/nintendo-sw...  \n",
       "1   https://www.nintendolife.com/games/n64/legend_...  \n",
       "2   https://www.nintendolife.com/games/wiiu/legend...  \n",
       "3   https://www.nintendolife.com/games/gameboy/leg...  \n",
       "4   https://www.nintendolife.com/games/ds/chrono_t...  \n",
       "5   https://www.nintendolife.com/games/switch-esho...  \n",
       "6   https://www.nintendolife.com/games/snes/chrono...  \n",
       "7   https://www.nintendolife.com/games/snes/legend...  \n",
       "8   https://www.nintendolife.com/games/switch-esho...  \n",
       "9   https://www.nintendolife.com/games/snes/super_...  \n",
       "10  https://www.nintendolife.com/games/wii/metroid...  \n",
       "11  https://www.nintendolife.com/games/gamecube/re...  \n",
       "12  https://www.nintendolife.com/games/snes/super_...  \n",
       "13  https://www.nintendolife.com/games/gamecube/le...  \n",
       "14  https://www.nintendolife.com/games/gamecube/me...  \n",
       "15  https://www.nintendolife.com/games/gamecube/pa...  \n",
       "16  https://www.nintendolife.com/games/snes/final_...  \n",
       "17  https://www.nintendolife.com/games/ds/pokemon_...  \n",
       "18  https://www.nintendolife.com/games/nintendo-sw...  \n",
       "19  https://www.nintendolife.com/games/gameboy/tetris  \n",
       "20  https://www.nintendolife.com/games/nes/super_m...  \n",
       "21  https://www.nintendolife.com/games/gamecube/le...  \n",
       "22  https://www.nintendolife.com/games/nintendo-sw...  \n",
       "23  https://www.nintendolife.com/games/nintendo-sw...  \n",
       "24  https://www.nintendolife.com/games/wii/xenobla...  \n",
       "25  https://www.nintendolife.com/games/switch-esho...  \n",
       "26  https://www.nintendolife.com/games/3ds/legend_...  \n",
       "27  https://www.nintendolife.com/games/wiiu/legend...  \n",
       "28  https://www.nintendolife.com/games/gamecube/le...  \n",
       "29  https://www.nintendolife.com/games/wii/super_m...  \n",
       "30  https://www.nintendolife.com/games/wii/super_m...  \n",
       "31  https://www.nintendolife.com/games/n64/legend_...  \n",
       "32  https://www.nintendolife.com/games/gbc/pokemon...  \n",
       "33  https://www.nintendolife.com/games/ds/phoenix_...  \n",
       "34  https://www.nintendolife.com/games/megadrive/s...  \n",
       "35  https://www.nintendolife.com/games/n64/goldene...  \n",
       "36  https://www.nintendolife.com/games/gamecube/su...  \n",
       "37  https://www.nintendolife.com/games/nintendo-sw...  \n",
       "38  https://www.nintendolife.com/games/ds/dragon_q...  \n",
       "39  https://www.nintendolife.com/games/gbc/pokemon...  \n",
       "40  https://www.nintendolife.com/games/ds/world_en...  \n",
       "41  https://www.nintendolife.com/games/3ds/legend_...  \n",
       "42  https://www.nintendolife.com/games/switch-esho...  \n",
       "43  https://www.nintendolife.com/games/gba/castlev...  \n",
       "44  https://www.nintendolife.com/games/nintendo-sw...  \n",
       "45  https://www.nintendolife.com/games/gamecube/le...  \n",
       "46    https://www.nintendolife.com/games/gba/mother_3  \n",
       "47  https://www.nintendolife.com/games/wii/residen...  \n",
       "48  https://www.nintendolife.com/games/nintendo-sw...  \n",
       "49  https://www.nintendolife.com/games/gba/metroid...  \n",
       "50  https://www.nintendolife.com/games/3ds/fire_em...  \n",
       "51  https://www.nintendolife.com/games/nes/guardia...  \n",
       "52  https://www.nintendolife.com/games/ds/radiant_...  \n",
       "53  https://www.nintendolife.com/games/gbc/legend_...  \n",
       "54  https://www.nintendolife.com/games/ds/phoenix_...  \n",
       "55  https://www.nintendolife.com/games/nintendo-sw...  \n",
       "56  https://www.nintendolife.com/games/ds/castleva...  \n",
       "57  https://www.nintendolife.com/games/gameboy/pok...  \n",
       "58  https://www.nintendolife.com/games/snes/super_...  \n",
       "59  https://www.nintendolife.com/games/nintendo-sw...  "
      ]
     },
     "execution_count": 26,
     "metadata": {},
     "output_type": "execute_result"
    }
   ],
   "source": [
    "games_df"
   ]
  },
  {
   "cell_type": "code",
   "execution_count": 27,
   "metadata": {},
   "outputs": [],
   "source": [
    " games_df.to_csv('games.csv',index=None)"
   ]
  },
  {
   "cell_type": "markdown",
   "metadata": {},
   "source": [
    "## Consolidate the code into functions and get entries from specified page numbers."
   ]
  },
  {
   "cell_type": "markdown",
   "metadata": {},
   "source": [
    "The function `get_doc()` returns a beautiful soup document."
   ]
  },
  {
   "cell_type": "code",
   "execution_count": 28,
   "metadata": {},
   "outputs": [],
   "source": [
    "def get_doc(p_no):\n",
    "    top_url=get_subsi_page_url(p_no)\n",
    "    response = requests.get(top_url)\n",
    "    page_contents=response.text\n",
    "    doc=BeautifulSoup(page_contents,'html.parser')\n",
    "    return doc"
   ]
  },
  {
   "cell_type": "code",
   "execution_count": 29,
   "metadata": {},
   "outputs": [],
   "source": [
    "#generate url depending on the page number passed as argument\n",
    "def get_subsi_page_url(p_no):\n",
    "    if p_no=='1':\n",
    "        rurl='https://www.nintendolife.com/games/browse?sort=rating'\n",
    "    else:\n",
    "        rurl='https://www.nintendolife.com/games/browse?sort=rating&page='+p_no\n",
    "    return rurl\n",
    "    "
   ]
  },
  {
   "cell_type": "code",
   "execution_count": 30,
   "metadata": {},
   "outputs": [
    {
     "data": {
      "text/plain": [
       "'https://www.nintendolife.com/games/browse?sort=rating'"
      ]
     },
     "execution_count": 30,
     "metadata": {},
     "output_type": "execute_result"
    }
   ],
   "source": [
    "get_subsi_page_url('1')"
   ]
  },
  {
   "cell_type": "code",
   "execution_count": 43,
   "metadata": {},
   "outputs": [],
   "source": [
    "#funtion to get a list of systems that that the game can run on.\n",
    "def get_system_list():\n",
    "    doc=get_doc(p_no)\n",
    "    span_tags=doc.find_all('span',class_='subtitle')\n",
    "    span_tags=span_tags[:60]\n",
    "    system_list=[]\n",
    "    for tag in span_tags:\n",
    "        system_list.append(tag.text)\n",
    "    return system_list"
   ]
  },
  {
   "cell_type": "code",
   "execution_count": 32,
   "metadata": {
    "code_folding": []
   },
   "outputs": [],
   "source": [
    "#funtion to get a list of game page urls\n",
    "def get_url_list():\n",
    "    doc=get_doc(p_no)\n",
    "    a_tags=doc.find_all('a',class_='title accent-hover')\n",
    "    a_tags=a_tags[:60]\n",
    "    url_list=[]\n",
    "    for tag in a_tags:\n",
    "        url_cat='https://www.nintendolife.com/'+tag['href']\n",
    "        url_list.append(url_cat)\n",
    "\n",
    "    return url_list"
   ]
  },
  {
   "cell_type": "code",
   "execution_count": 33,
   "metadata": {
    "code_folding": []
   },
   "outputs": [],
   "source": [
    "#function to get a list of game titles\n",
    "def get_title_list():\n",
    "    doc=get_doc(p_no)\n",
    "    span_tags=doc.find_all('span',class_='title accent-hover')\n",
    "    span_tags=span_tags[:60]\n",
    "    title_list=[]\n",
    "    for tag in span_tags:\n",
    "        title_list.append(tag.text)\n",
    "    return title_list"
   ]
  },
  {
   "cell_type": "code",
   "execution_count": 34,
   "metadata": {
    "code_folding": []
   },
   "outputs": [],
   "source": [
    "#function to get a list of game ratings\n",
    "def get_rating_list():\n",
    "    doc=get_doc(p_no)\n",
    "    rating_span_tags=doc.find_all('p',{'class':'user-rating'})\n",
    "    rating_list=[]\n",
    "    for tag in rating_span_tags:\n",
    "        rating_list.append(tag.text)\n",
    "    return rating_list"
   ]
  },
  {
   "cell_type": "code",
   "execution_count": 35,
   "metadata": {},
   "outputs": [],
   "source": [
    "#function to create a dictionary and finally a csv out of the obtained information  \n",
    "def create_csv():\n",
    "    headers=['title','rating','url','system']\n",
    "    game_dict={'title':title_list,\n",
    "                'rating':rating_list,\n",
    "                'url':url_list,\n",
    "                'system':system_list}\n",
    "    games_df=pd.DataFrame(game_dict)\n",
    "    games_df.to_csv('games.csv',index=None,mode='a')"
   ]
  },
  {
   "cell_type": "code",
   "execution_count": 36,
   "metadata": {},
   "outputs": [],
   "source": [
    "#function to create a dictionary and finally append the csv created earlier\n",
    "\n",
    "def append_csv():\n",
    "    game_dict={'title':title_list,\n",
    "                'rating':rating_list,\n",
    "                'url':url_list,\n",
    "                'system':system_list}\n",
    "    games_df=pd.DataFrame(game_dict)\n",
    "    games_df.to_csv('games.csv',header=False,mode='a',index=None)"
   ]
  },
  {
   "cell_type": "code",
   "execution_count": 37,
   "metadata": {},
   "outputs": [],
   "source": [
    "header=[[\"title\", \"rating\", \"url\", \"system\"]]\n",
    "df = pd.DataFrame(header)\n",
    "df.to_csv('games.csv', index=False, header=False)"
   ]
  },
  {
   "cell_type": "code",
   "execution_count": 38,
   "metadata": {
    "code_folding": []
   },
   "outputs": [],
   "source": [
    "\n",
    "#calling the functions\n",
    "num=4 #number of pages to be scraped\n",
    "for i in range(1,num+1):\n",
    "    s_num=str(i)\n",
    "    \n",
    "    p_no=s_num\n",
    "    url_list=get_url_list()\n",
    "    rating_list=get_rating_list()\n",
    "    title_list=get_title_list()\n",
    "    system_list=get_system_list()\n",
    "    if i=='1':\n",
    "        create_csv()\n",
    "    else:\n",
    "        append_csv()\n",
    "\n"
   ]
  },
  {
   "cell_type": "code",
   "execution_count": 39,
   "metadata": {},
   "outputs": [],
   "source": [
    "result_df=pd.read_csv('games.csv')"
   ]
  },
  {
   "cell_type": "code",
   "execution_count": 40,
   "metadata": {
    "scrolled": true
   },
   "outputs": [
    {
     "data": {
      "text/html": [
       "<div>\n",
       "<style scoped>\n",
       "    .dataframe tbody tr th:only-of-type {\n",
       "        vertical-align: middle;\n",
       "    }\n",
       "\n",
       "    .dataframe tbody tr th {\n",
       "        vertical-align: top;\n",
       "    }\n",
       "\n",
       "    .dataframe thead th {\n",
       "        text-align: right;\n",
       "    }\n",
       "</style>\n",
       "<table border=\"1\" class=\"dataframe\">\n",
       "  <thead>\n",
       "    <tr style=\"text-align: right;\">\n",
       "      <th></th>\n",
       "      <th>title</th>\n",
       "      <th>rating</th>\n",
       "      <th>url</th>\n",
       "      <th>system</th>\n",
       "    </tr>\n",
       "  </thead>\n",
       "  <tbody>\n",
       "    <tr>\n",
       "      <th>0</th>\n",
       "      <td>The Legend of Zelda: Breath of the Wild</td>\n",
       "      <td>9.6</td>\n",
       "      <td>https://www.nintendolife.com/games/nintendo-sw...</td>\n",
       "      <td>Switch</td>\n",
       "    </tr>\n",
       "    <tr>\n",
       "      <th>1</th>\n",
       "      <td>The Legend of Zelda: Ocarina of Time</td>\n",
       "      <td>9.6</td>\n",
       "      <td>https://www.nintendolife.com/games/n64/legend_...</td>\n",
       "      <td>N64</td>\n",
       "    </tr>\n",
       "    <tr>\n",
       "      <th>2</th>\n",
       "      <td>The Legend of Zelda: Breath of the Wild</td>\n",
       "      <td>9.5</td>\n",
       "      <td>https://www.nintendolife.com/games/wiiu/legend...</td>\n",
       "      <td>Wii U</td>\n",
       "    </tr>\n",
       "    <tr>\n",
       "      <th>3</th>\n",
       "      <td>The Legend of Zelda: Link's Awakening</td>\n",
       "      <td>9.5</td>\n",
       "      <td>https://www.nintendolife.com/games/gameboy/leg...</td>\n",
       "      <td>GB</td>\n",
       "    </tr>\n",
       "    <tr>\n",
       "      <th>4</th>\n",
       "      <td>Chrono Trigger</td>\n",
       "      <td>9.5</td>\n",
       "      <td>https://www.nintendolife.com/games/ds/chrono_t...</td>\n",
       "      <td>DS</td>\n",
       "    </tr>\n",
       "    <tr>\n",
       "      <th>...</th>\n",
       "      <td>...</td>\n",
       "      <td>...</td>\n",
       "      <td>...</td>\n",
       "      <td>...</td>\n",
       "    </tr>\n",
       "    <tr>\n",
       "      <th>235</th>\n",
       "      <td>Rhythm Heaven Fever</td>\n",
       "      <td>8.6</td>\n",
       "      <td>https://www.nintendolife.com/games/wii/rhythm_...</td>\n",
       "      <td>Wii</td>\n",
       "    </tr>\n",
       "    <tr>\n",
       "      <th>236</th>\n",
       "      <td>Picross 3D</td>\n",
       "      <td>8.6</td>\n",
       "      <td>https://www.nintendolife.com/games/ds/picross_3d</td>\n",
       "      <td>DS</td>\n",
       "    </tr>\n",
       "    <tr>\n",
       "      <th>237</th>\n",
       "      <td>DuckTales</td>\n",
       "      <td>8.6</td>\n",
       "      <td>https://www.nintendolife.com/games/nes/ducktales</td>\n",
       "      <td>NES</td>\n",
       "    </tr>\n",
       "    <tr>\n",
       "      <th>238</th>\n",
       "      <td>Spiritfarer</td>\n",
       "      <td>8.6</td>\n",
       "      <td>https://www.nintendolife.com/games/switch-esho...</td>\n",
       "      <td>Switch eShop</td>\n",
       "    </tr>\n",
       "    <tr>\n",
       "      <th>239</th>\n",
       "      <td>Sakura Wars: So Long, My Love</td>\n",
       "      <td>8.6</td>\n",
       "      <td>https://www.nintendolife.com/games/wii/sakura_...</td>\n",
       "      <td>Wii</td>\n",
       "    </tr>\n",
       "  </tbody>\n",
       "</table>\n",
       "<p>240 rows × 4 columns</p>\n",
       "</div>"
      ],
      "text/plain": [
       "                                       title  rating  \\\n",
       "0    The Legend of Zelda: Breath of the Wild     9.6   \n",
       "1       The Legend of Zelda: Ocarina of Time     9.6   \n",
       "2    The Legend of Zelda: Breath of the Wild     9.5   \n",
       "3      The Legend of Zelda: Link's Awakening     9.5   \n",
       "4                             Chrono Trigger     9.5   \n",
       "..                                       ...     ...   \n",
       "235                      Rhythm Heaven Fever     8.6   \n",
       "236                               Picross 3D     8.6   \n",
       "237                                DuckTales     8.6   \n",
       "238                              Spiritfarer     8.6   \n",
       "239            Sakura Wars: So Long, My Love     8.6   \n",
       "\n",
       "                                                   url        system  \n",
       "0    https://www.nintendolife.com/games/nintendo-sw...        Switch  \n",
       "1    https://www.nintendolife.com/games/n64/legend_...           N64  \n",
       "2    https://www.nintendolife.com/games/wiiu/legend...         Wii U  \n",
       "3    https://www.nintendolife.com/games/gameboy/leg...            GB  \n",
       "4    https://www.nintendolife.com/games/ds/chrono_t...            DS  \n",
       "..                                                 ...           ...  \n",
       "235  https://www.nintendolife.com/games/wii/rhythm_...           Wii  \n",
       "236   https://www.nintendolife.com/games/ds/picross_3d            DS  \n",
       "237   https://www.nintendolife.com/games/nes/ducktales           NES  \n",
       "238  https://www.nintendolife.com/games/switch-esho...  Switch eShop  \n",
       "239  https://www.nintendolife.com/games/wii/sakura_...           Wii  \n",
       "\n",
       "[240 rows x 4 columns]"
      ]
     },
     "execution_count": 40,
     "metadata": {},
     "output_type": "execute_result"
    }
   ],
   "source": [
    "result_df"
   ]
  },
  {
   "cell_type": "code",
   "execution_count": null,
   "metadata": {},
   "outputs": [
    {
     "data": {
      "application/javascript": [
       "window.require && require([\"base/js/namespace\"],function(Jupyter){Jupyter.notebook.save_checkpoint()})"
      ],
      "text/plain": [
       "<IPython.core.display.Javascript object>"
      ]
     },
     "metadata": {},
     "output_type": "display_data"
    }
   ],
   "source": [
    "jovian.submit(assignment=\"zerotoanalyst-project1\", files=['games.csv'])"
   ]
  },
  {
   "cell_type": "markdown",
   "metadata": {},
   "source": [
    "## Summary \n",
    "1. Successfully retrieved web-page using `requests`.\n",
    "2. Parsed web-page thus obtained using `BeautifulSoup` \n",
    "3. Obtained the required information such as game name, game page URL,system, and rating.\n",
    "4. Stored obtained information in the form of a dictionary.\n",
    "5. Written the extracted information to a .csv file.\n",
    "6. Consolidated the code into functions and retrieved information from a specific page number.\n",
    "\n"
   ]
  },
  {
   "cell_type": "markdown",
   "metadata": {},
   "source": [
    "## Future Work\n",
    "\n",
    "- Scrape other pages like \"Latest Featured\", \"Latest Reviews\" etc.\n",
    "- Try other web scraping tools like scrapy or selenium "
   ]
  },
  {
   "cell_type": "markdown",
   "metadata": {},
   "source": [
    "## References \n",
    "- https://www.crummy.com/software/BeautifulSoup/bs4/doc/\n",
    "- https://docs.python-requests.org/en/master/\n",
    "- https://stackoverflow.com/questions/46510966/beautiful-soup-nested-tag-search"
   ]
  }
 ],
 "metadata": {
  "kernelspec": {
   "display_name": "Python 3 (ipykernel)",
   "language": "python",
   "name": "python3"
  },
  "language_info": {
   "codemirror_mode": {
    "name": "ipython",
    "version": 3
   },
   "file_extension": ".py",
   "mimetype": "text/x-python",
   "name": "python",
   "nbconvert_exporter": "python",
   "pygments_lexer": "ipython3",
   "version": "3.9.6"
  }
 },
 "nbformat": 4,
 "nbformat_minor": 2
}
